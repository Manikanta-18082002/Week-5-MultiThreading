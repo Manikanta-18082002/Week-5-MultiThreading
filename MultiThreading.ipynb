{
 "cells": [
  {
   "cell_type": "markdown",
   "id": "a33af98c",
   "metadata": {},
   "source": [
    "Q1). What is multithreading in python? why is it used? Name the module used to handle threads in python"
   ]
  },
  {
   "cell_type": "markdown",
   "id": "41d2cc46",
   "metadata": {},
   "source": [
    "Ans:\n",
    "Mulitthreading: It is the process of concurrent execution of multiple threads within a single Python process.\n",
    "    \n",
    "Useful for tasks that are I/O-bound, such as reading/writing files, making network requests, or waiting for user input. \n",
    "By using threads, you can avoid blocking the entire program while waiting for these operations to complete.\n",
    "\n",
    "(threading)  module used to handle threads in python"
   ]
  },
  {
   "cell_type": "code",
   "execution_count": null,
   "id": "d1733df9",
   "metadata": {},
   "outputs": [],
   "source": []
  },
  {
   "cell_type": "markdown",
   "id": "2eca75bc",
   "metadata": {},
   "source": [
    "Q2) Why threading module used? Write the use of the following functions\n",
    "( activeCount\n",
    " currentThread\n",
    " enumerate)"
   ]
  },
  {
   "cell_type": "markdown",
   "id": "b61ec81c",
   "metadata": {},
   "source": [
    "## threading module:\n",
    "is used to work with threads, allowing  to create, start, and manage threads within a Python program.\n",
    "It provides a high-level, object-oriented interface for handling threads, making it easier to work with concurrent execution.\n",
    "\n",
    "#### threading.activeCount():\n",
    "\n",
    "* This function returns the number of Thread objects currently alive. It includes both the main thread and any additional threads that have been created.\n",
    "* Use it to determine how many threads are running in your program at a given time.\n",
    "\n",
    "#### threading.currentThread():\n",
    "\n",
    "* This function returns the current Thread object, representing the thread from which it is called.\n",
    "* Use it to access attributes and methods of the currently executing thread.\n",
    "\n",
    "#### threading.enumerate():\n",
    "\n",
    "* This function returns a list of all Thread objects currently alive.\n",
    "* It allows you to access information about all the active threads, including their names, IDs, and statuses."
   ]
  },
  {
   "cell_type": "code",
   "execution_count": null,
   "id": "e220001c",
   "metadata": {},
   "outputs": [],
   "source": []
  },
  {
   "cell_type": "markdown",
   "id": "e9c29f92",
   "metadata": {},
   "source": [
    "Q3. Explain the following functions\n",
    "( run\n",
    " start\n",
    " join\n",
    " isAlive)"
   ]
  },
  {
   "cell_type": "markdown",
   "id": "baf48691",
   "metadata": {},
   "source": [
    "## run():\n",
    "\n",
    "* The run() method is called when a thread is started using the start() method.\n",
    "* It contains the code that the thread will execute.\n",
    "* You can override this method in a custom thread class to define the thread's behavior.\n",
    "\n",
    "## start():\n",
    "\n",
    "* The start() method initiates the execution of a thread.\n",
    "* It calls the run() method and runs the thread concurrently with other threads.\n",
    "* Threads should be started using this method, not by calling run() directly.\n",
    "\n",
    "\n",
    "## join():\n",
    "\n",
    "* The join() method waits for a thread to complete its execution before the program continues.\n",
    "* It blocks the program until the specified thread has finished.\n",
    "* It's useful for ensuring that a thread has completed its task before proceeding.\n",
    "\n",
    "\n",
    "## isAlive():\n",
    "\n",
    "* The isAlive() method checks if a thread is currently running or active.\n",
    "* It returns True if the thread is running and False if it has completed or hasn't started yet.\n",
    "* It's used to determine the status of a thread's execution."
   ]
  },
  {
   "cell_type": "code",
   "execution_count": null,
   "id": "9b07bd9b",
   "metadata": {},
   "outputs": [],
   "source": []
  },
  {
   "cell_type": "markdown",
   "id": "9b7e84d7",
   "metadata": {},
   "source": [
    "Q4.) Write a python program to create two threads. Thread one must print the list of squares and thread\n",
    "two must print the list of cubes"
   ]
  },
  {
   "cell_type": "code",
   "execution_count": 1,
   "id": "8b63ba62",
   "metadata": {},
   "outputs": [
    {
     "name": "stdout",
     "output_type": "stream",
     "text": [
      "Square of 1: 1\n",
      "Square of 2: 4\n",
      "Square of 3: 9\n",
      "Square of 4: 16\n",
      "Square of 5: 25\n",
      "Cube of 1: 1\n",
      "Cube of 2: 8\n",
      "Cube of 3: 27\n",
      "Cube of 4: 64\n",
      "Cube of 5: 125\n",
      "Both threads have finished.\n"
     ]
    }
   ],
   "source": [
    "import threading\n",
    "\n",
    "# Function to print squares of numbers\n",
    "def print_squares():\n",
    "    for i in range(1, 6):\n",
    "        print(f\"Square of {i}: {i**2}\")\n",
    "\n",
    "# Function to print cubes of numbers\n",
    "def print_cubes():\n",
    "    for i in range(1, 6):\n",
    "        print(f\"Cube of {i}: {i**3}\")\n",
    "\n",
    "# Create two threads\n",
    "thread1 = threading.Thread(target=print_squares)\n",
    "thread2 = threading.Thread(target=print_cubes)\n",
    "\n",
    "# Start the threads\n",
    "thread1.start()\n",
    "thread2.start()\n",
    "\n",
    "# Wait for both threads to finish\n",
    "thread1.join()\n",
    "thread2.join()\n",
    "\n",
    "print(\"Both threads have finished.\")"
   ]
  },
  {
   "cell_type": "code",
   "execution_count": null,
   "id": "a08887d4",
   "metadata": {},
   "outputs": [],
   "source": []
  },
  {
   "cell_type": "markdown",
   "id": "c0ca0895",
   "metadata": {},
   "source": [
    "Q5). State advantages and disadvantages of multithreading"
   ]
  },
  {
   "cell_type": "markdown",
   "id": "14ed271c",
   "metadata": {},
   "source": [
    "### Advantages of Multithreading:\n",
    "\n",
    "Improved Performance: Multithreading can lead to better performance by allowing multiple tasks to run concurrently, utilizing multiple CPU cores or processors.\n",
    "\n",
    "Responsiveness: Multithreading can keep a program responsive to user input, particularly in GUI applications, by handling background tasks without blocking the main thread.\n",
    "\n",
    "Resource Sharing: Threads within the same process can easily share data and resources, making it efficient for tasks that require communication.\n",
    "\n",
    "Efficient I/O Operations: Multithreading is well-suited for I/O-bound tasks, such as reading/writing files or making network requests, as it can overlap I/O operations with other tasks.\n",
    "\n",
    "Parallelism: Multithreading enables parallel execution of tasks, which is crucial for tasks like parallel computing or data processing.\n",
    "\n",
    "### Disadvantages of Multithreading:\n",
    "\n",
    "Complexity: Multithreaded code can be complex and challenging to debug due to potential race conditions, deadlocks, and synchronization issues.\n",
    "\n",
    "Resource Overhead: Threads consume memory and other resources, and having too many threads can lead to resource contention and slow performance.\n",
    "\n",
    "Synchronization Overhead: Coordinating access to shared resources requires synchronization mechanisms, which can introduce overhead and complexity.\n",
    "\n",
    "Thread Safety: Writing thread-safe code to prevent data corruption or race conditions can be difficult and may impact performance.\n",
    "\n",
    "Debugging Complexity: Debugging multithreaded applications can be more challenging, as issues may be intermittent and difficult to reproduce."
   ]
  },
  {
   "cell_type": "code",
   "execution_count": null,
   "id": "78bca0a2",
   "metadata": {},
   "outputs": [],
   "source": []
  },
  {
   "cell_type": "markdown",
   "id": "c190b289",
   "metadata": {},
   "source": [
    "6. Explain deadlocks and race conditions."
   ]
  },
  {
   "cell_type": "markdown",
   "id": "a78b9982",
   "metadata": {},
   "source": [
    "### Deadlock\n",
    "is a situation in multithreading where two or more threads are unable to proceed with their execution because each is waiting for the other(s) to release a resource.\n",
    "\n",
    "* Deadlock occurs when threads block each other, resulting in a standstill.\n",
    "* It typically involves competing for shared resources like locks.\n",
    "* Deadlocks can lead to programs becoming unresponsive and require intervention to resolve.\n",
    "* Avoidance strategies include using proper locking mechanisms and avoiding circular dependencies.\n",
    "Race Condition:\n",
    "\n",
    "### Race condition\n",
    "is a situation in multithreading where the behavior of a program depends on the relative timing of events, and the outcome is unpredictable when multiple threads access shared data concurrently.\n",
    "\n",
    "* Race conditions occur when multiple threads access and modify shared data without proper synchronization.\n",
    "* They can result in data corruption and unexpected program behavior.\n",
    "* Preventing race conditions involves using synchronization mechanisms like locks and semaphores.\n",
    "* Thread-safe programming practices should be employed to avoid race conditions."
   ]
  },
  {
   "cell_type": "code",
   "execution_count": null,
   "id": "870f509a",
   "metadata": {},
   "outputs": [],
   "source": []
  }
 ],
 "metadata": {
  "kernelspec": {
   "display_name": "Python 3 (ipykernel)",
   "language": "python",
   "name": "python3"
  },
  "language_info": {
   "codemirror_mode": {
    "name": "ipython",
    "version": 3
   },
   "file_extension": ".py",
   "mimetype": "text/x-python",
   "name": "python",
   "nbconvert_exporter": "python",
   "pygments_lexer": "ipython3",
   "version": "3.11.4"
  }
 },
 "nbformat": 4,
 "nbformat_minor": 5
}
